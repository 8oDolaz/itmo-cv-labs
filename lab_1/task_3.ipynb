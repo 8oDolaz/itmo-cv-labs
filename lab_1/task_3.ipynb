{
 "cells": [
  {
   "cell_type": "code",
   "execution_count": 1,
   "metadata": {},
   "outputs": [],
   "source": [
    "import cv2 as cv\n",
    "import numpy as np\n",
    "import matplotlib.pyplot as plt"
   ]
  },
  {
   "cell_type": "code",
   "execution_count": 2,
   "metadata": {},
   "outputs": [],
   "source": [
    "cube = cv.imread('cube.png')\n",
    "cube = cv.cvtColor(cube, cv.COLOR_BGR2GRAY)"
   ]
  },
  {
   "cell_type": "code",
   "execution_count": 3,
   "metadata": {},
   "outputs": [],
   "source": [
    "Ox_projection = np.sum(cube, axis=0).astype(np.int32)\n",
    "Oy_projection = np.sum(cube, axis=1).astype(np.int32)"
   ]
  },
  {
   "cell_type": "code",
   "execution_count": 4,
   "metadata": {},
   "outputs": [],
   "source": [
    "def find_corners(values):\n",
    "    return [\n",
    "        i for i in range(1, len(values - 1))\n",
    "        if (abs(values[i - 1] - values[i]) >= 5_000 and \\\n",
    "            abs(values[i] - values[i + 1]) >= 5_000)\n",
    "    ]\n",
    "\n",
    "x_corners = find_corners(Ox_projection)\n",
    "y_corners = find_corners(Oy_projection)\n",
    "\n",
    "corners = np.array([\n",
    "    [x_corners[i // 2], y_corners[i % 2]]\n",
    "    for i in range(4)\n",
    "])"
   ]
  },
  {
   "cell_type": "code",
   "execution_count": 5,
   "metadata": {},
   "outputs": [
    {
     "data": {
      "image/png": "[encoded data removed]",
      "text/plain": [
       "<Figure size 640x480 with 1 Axes>"
      ]
     },
     "metadata": {},
     "output_type": "display_data"
    }
   ],
   "source": [
    "plt.imshow(cube, cmap='gray')\n",
    "plt.scatter(corners[:, 0], corners[:, 1], marker='x', color='red')\n",
    "plt.axis('off')\n",
    "plt.show()"
   ]
  }
 ],
 "metadata": {
  "kernelspec": {
   "display_name": ".venv",
   "language": "python",
   "name": "python3"
  },
  "language_info": {
   "codemirror_mode": {
    "name": "ipython",
    "version": 3
   },
   "file_extension": ".py",
   "mimetype": "text/x-python",
   "name": "python",
   "nbconvert_exporter": "python",
   "pygments_lexer": "ipython3",
   "version": "3.10.12"
  }
 },
 "nbformat": 4,
 "nbformat_minor": 2
}
